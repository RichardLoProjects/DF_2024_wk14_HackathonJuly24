{
 "cells": [
  {
   "cell_type": "code",
   "execution_count": 1,
   "metadata": {},
   "outputs": [],
   "source": [
    "import pandas as pd\n",
    "\n",
    "df = pd.read_csv('../data/processed.csv')\n",
    "for c in df.columns:\n",
    "    if 'Unnamed' in c:\n",
    "        df.drop(columns=c, inplace=True)\n",
    "interesting_models = {\n",
    "    'Prithvi' #ibm\n",
    "    , 'GPT-4 Turbo' #chatgpt openai\n",
    "    , 'Gemini' #gemini google\n",
    "    , 'Chronos' #amazon\n",
    "    , 'OpenELM' #apple\n",
    "    , 'Llama 3' #meta\n",
    "    , 'WizardLM' #microsoft\n",
    "    , 'CORGI' #stanford\n",
    "}\n",
    "df = df[df['name'].isin(interesting_models)]\n",
    "df.to_csv('../data/row_filtered.csv')"
   ]
  }
 ],
 "metadata": {
  "kernelspec": {
   "display_name": "base",
   "language": "python",
   "name": "python3"
  },
  "language_info": {
   "codemirror_mode": {
    "name": "ipython",
    "version": 3
   },
   "file_extension": ".py",
   "mimetype": "text/x-python",
   "name": "python",
   "nbconvert_exporter": "python",
   "pygments_lexer": "ipython3",
   "version": "3.11.7"
  }
 },
 "nbformat": 4,
 "nbformat_minor": 2
}
