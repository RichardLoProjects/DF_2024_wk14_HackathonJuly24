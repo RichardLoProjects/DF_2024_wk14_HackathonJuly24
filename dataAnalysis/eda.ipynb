{
 "cells": [
  {
   "cell_type": "markdown",
   "metadata": {},
   "source": [
    "# Exploratory Data Analysis"
   ]
  },
  {
   "cell_type": "markdown",
   "metadata": {},
   "source": [
    "### Introduction"
   ]
  },
  {
   "cell_type": "markdown",
   "metadata": {},
   "source": [
    "We have data from a CSV file found [here](https://crfm.stanford.edu/ecosystem-graphs/index.html?mode=table). Let's try to understand it. The motivating goal of the Data Engineer is to clean and structure the data so that it is accessible to our Data Analyst and Software Engineer teams."
   ]
  },
  {
   "cell_type": "markdown",
   "metadata": {},
   "source": [
    "### Diving In"
   ]
  },
  {
   "cell_type": "markdown",
   "metadata": {},
   "source": [
    "We start by importing the tool to look at tabular data and extracting it from the csv source."
   ]
  },
  {
   "cell_type": "code",
   "execution_count": 1,
   "metadata": {},
   "outputs": [],
   "source": [
    "import pandas as pd # type: ignore"
   ]
  },
  {
   "cell_type": "code",
   "execution_count": 2,
   "metadata": {},
   "outputs": [],
   "source": [
    "df = pd.read_csv('../data/assets.csv')"
   ]
  },
  {
   "cell_type": "markdown",
   "metadata": {},
   "source": [
    "Strip away columns with no information, and limit data to LLM models:"
   ]
  },
  {
   "cell_type": "code",
   "execution_count": 3,
   "metadata": {},
   "outputs": [],
   "source": [
    "df = df[(df['type']=='model')]"
   ]
  },
  {
   "cell_type": "code",
   "execution_count": 4,
   "metadata": {},
   "outputs": [],
   "source": [
    "for column_name in df.copy().columns:\n",
    "    if len(df[column_name].unique()) <= 1:\n",
    "        df.drop(columns=column_name, inplace=True)"
   ]
  },
  {
   "cell_type": "markdown",
   "metadata": {},
   "source": [
    "What is the size of the data?"
   ]
  },
  {
   "cell_type": "code",
   "execution_count": 5,
   "metadata": {},
   "outputs": [
    {
     "name": "stdout",
     "output_type": "stream",
     "text": [
      "The data has 359 rows and 20 columns.\n"
     ]
    }
   ],
   "source": [
    "row_count, column_count = df.shape\n",
    "print(f'The data has {row_count} rows and {column_count} columns.')"
   ]
  },
  {
   "cell_type": "markdown",
   "metadata": {},
   "source": [
    "That is quite a lot of columns. Let's list them, along with the number of non-null values and their data type."
   ]
  },
  {
   "cell_type": "code",
   "execution_count": 6,
   "metadata": {},
   "outputs": [],
   "source": [
    "webpage_columns = [\n",
    "    'type'\n",
    "    , 'name'\n",
    "    , 'organization'\n",
    "    , 'created_date'\n",
    "    , 'size'\n",
    "    , 'modality'\n",
    "    , 'access'\n",
    "    , 'license'\n",
    "    , 'dependencies'\n",
    "]"
   ]
  },
  {
   "cell_type": "code",
   "execution_count": 7,
   "metadata": {},
   "outputs": [
    {
     "name": "stdout",
     "output_type": "stream",
     "text": [
      "<class 'pandas.core.frame.DataFrame'>\n",
      "Index: 359 entries, 3 to 564\n",
      "Data columns (total 20 columns):\n",
      " #   Column              Non-Null Count  Dtype \n",
      "---  ------              --------------  ----- \n",
      " 0   name                359 non-null    object\n",
      " 1   organization        359 non-null    object\n",
      " 2   description         299 non-null    object\n",
      " 3   created_date        357 non-null    object\n",
      " 4   url                 357 non-null    object\n",
      " 5   modality            357 non-null    object\n",
      " 6   size                355 non-null    object\n",
      " 7   analysis            234 non-null    object\n",
      " 8   dependencies        359 non-null    object\n",
      " 9   quality_control     85 non-null     object\n",
      " 10  access              359 non-null    object\n",
      " 11  license             343 non-null    object\n",
      " 12  intended_uses       129 non-null    object\n",
      " 13  prohibited_uses     86 non-null     object\n",
      " 14  monitoring          118 non-null    object\n",
      " 15  feedback            161 non-null    object\n",
      " 16  model_card          170 non-null    object\n",
      " 17  training_emissions  244 non-null    object\n",
      " 18  training_time       250 non-null    object\n",
      " 19  training_hardware   262 non-null    object\n",
      "dtypes: object(20)\n",
      "memory usage: 58.9+ KB\n"
     ]
    }
   ],
   "source": [
    "df.info()"
   ]
  },
  {
   "cell_type": "markdown",
   "metadata": {},
   "source": [
    "Can we find a primary key?"
   ]
  },
  {
   "cell_type": "code",
   "execution_count": 8,
   "metadata": {},
   "outputs": [
    {
     "data": {
      "text/plain": [
       "False"
      ]
     },
     "execution_count": 8,
     "metadata": {},
     "output_type": "execute_result"
    }
   ],
   "source": [
    "len(df['name'].unique()) == df.shape[0]"
   ]
  },
  {
   "cell_type": "markdown",
   "metadata": {},
   "source": [
    "Nevermind. Let's make our own."
   ]
  },
  {
   "cell_type": "code",
   "execution_count": 9,
   "metadata": {},
   "outputs": [],
   "source": [
    "df['id'] = range(1, 1+len(df))"
   ]
  },
  {
   "cell_type": "markdown",
   "metadata": {},
   "source": [
    "We can see that `created_date` should be a datetime"
   ]
  },
  {
   "cell_type": "code",
   "execution_count": 10,
   "metadata": {},
   "outputs": [],
   "source": [
    "df['created_date'] = pd.to_datetime(df['created_date'], errors='coerce')"
   ]
  },
  {
   "cell_type": "markdown",
   "metadata": {},
   "source": [
    "We see that `modality` and `dependencies` are not atomic:"
   ]
  },
  {
   "cell_type": "code",
   "execution_count": 11,
   "metadata": {},
   "outputs": [
    {
     "data": {
      "text/html": [
       "<div>\n",
       "<style scoped>\n",
       "    .dataframe tbody tr th:only-of-type {\n",
       "        vertical-align: middle;\n",
       "    }\n",
       "\n",
       "    .dataframe tbody tr th {\n",
       "        vertical-align: top;\n",
       "    }\n",
       "\n",
       "    .dataframe thead th {\n",
       "        text-align: right;\n",
       "    }\n",
       "</style>\n",
       "<table border=\"1\" class=\"dataframe\">\n",
       "  <thead>\n",
       "    <tr style=\"text-align: right;\">\n",
       "      <th></th>\n",
       "      <th>modality</th>\n",
       "    </tr>\n",
       "  </thead>\n",
       "  <tbody>\n",
       "    <tr>\n",
       "      <th>3</th>\n",
       "      <td>text; text</td>\n",
       "    </tr>\n",
       "    <tr>\n",
       "      <th>4</th>\n",
       "      <td>text, video; text, video</td>\n",
       "    </tr>\n",
       "    <tr>\n",
       "      <th>6</th>\n",
       "      <td>text; code, text</td>\n",
       "    </tr>\n",
       "    <tr>\n",
       "      <th>7</th>\n",
       "      <td>text; image</td>\n",
       "    </tr>\n",
       "    <tr>\n",
       "      <th>11</th>\n",
       "      <td>text; audio</td>\n",
       "    </tr>\n",
       "  </tbody>\n",
       "</table>\n",
       "</div>"
      ],
      "text/plain": [
       "                    modality\n",
       "3                 text; text\n",
       "4   text, video; text, video\n",
       "6           text; code, text\n",
       "7                text; image\n",
       "11               text; audio"
      ]
     },
     "execution_count": 11,
     "metadata": {},
     "output_type": "execute_result"
    }
   ],
   "source": [
    "df[['modality']].dropna(inplace=False).head()"
   ]
  },
  {
   "cell_type": "code",
   "execution_count": 12,
   "metadata": {},
   "outputs": [],
   "source": [
    "def repackage_modality(raw:str) -> tuple[list[str]]:\n",
    "    raw = str(raw)\n",
    "    semicolon_count = raw.count(';')\n",
    "    assert semicolon_count <= 1, 'LLM modality invalid.'\n",
    "    if semicolon_count == 0:\n",
    "        raw = raw + ';' + raw\n",
    "    modal_input_str, modal_output_str = raw.split(';')\n",
    "    modal_inputs = [s.strip() for s in modal_input_str.split(',')]\n",
    "    modal_outputs = [s.strip() for s in modal_output_str.split(',')]\n",
    "    return modal_inputs, modal_outputs"
   ]
  },
  {
   "cell_type": "code",
   "execution_count": 13,
   "metadata": {},
   "outputs": [],
   "source": [
    "df[['input_modality', 'output_modality']] = df['modality'].apply(repackage_modality).apply(pd.Series)\n",
    "df.drop(columns='modality', inplace=True)"
   ]
  },
  {
   "cell_type": "code",
   "execution_count": 14,
   "metadata": {},
   "outputs": [
    {
     "data": {
      "text/html": [
       "<div>\n",
       "<style scoped>\n",
       "    .dataframe tbody tr th:only-of-type {\n",
       "        vertical-align: middle;\n",
       "    }\n",
       "\n",
       "    .dataframe tbody tr th {\n",
       "        vertical-align: top;\n",
       "    }\n",
       "\n",
       "    .dataframe thead th {\n",
       "        text-align: right;\n",
       "    }\n",
       "</style>\n",
       "<table border=\"1\" class=\"dataframe\">\n",
       "  <thead>\n",
       "    <tr style=\"text-align: right;\">\n",
       "      <th></th>\n",
       "      <th>dependencies</th>\n",
       "    </tr>\n",
       "  </thead>\n",
       "  <tbody>\n",
       "    <tr>\n",
       "      <th>559</th>\n",
       "      <td>['Llama 2', 'Mistral', 'Falcon-180B', 'Deepsee...</td>\n",
       "    </tr>\n",
       "    <tr>\n",
       "      <th>561</th>\n",
       "      <td>['Mistral']</td>\n",
       "    </tr>\n",
       "    <tr>\n",
       "      <th>562</th>\n",
       "      <td>['UltraFeedback', 'Zephyr']</td>\n",
       "    </tr>\n",
       "    <tr>\n",
       "      <th>563</th>\n",
       "      <td>['Arxiv', 'Books', 'C4', 'RefinedWeb', 'StarCo...</td>\n",
       "    </tr>\n",
       "    <tr>\n",
       "      <th>564</th>\n",
       "      <td>['SlimPajama', 'StarCoder']</td>\n",
       "    </tr>\n",
       "  </tbody>\n",
       "</table>\n",
       "</div>"
      ],
      "text/plain": [
       "                                          dependencies\n",
       "559  ['Llama 2', 'Mistral', 'Falcon-180B', 'Deepsee...\n",
       "561                                        ['Mistral']\n",
       "562                        ['UltraFeedback', 'Zephyr']\n",
       "563  ['Arxiv', 'Books', 'C4', 'RefinedWeb', 'StarCo...\n",
       "564                        ['SlimPajama', 'StarCoder']"
      ]
     },
     "execution_count": 14,
     "metadata": {},
     "output_type": "execute_result"
    }
   ],
   "source": [
    "df[['dependencies']].dropna(inplace=False).tail()"
   ]
  },
  {
   "cell_type": "code",
   "execution_count": 15,
   "metadata": {},
   "outputs": [],
   "source": [
    "def repackage_dependencies(raw:str) -> list[str]:\n",
    "    return [s.strip(' ').strip('\\'') for s in str(raw)[1:-1].split(',')]"
   ]
  },
  {
   "cell_type": "code",
   "execution_count": 16,
   "metadata": {},
   "outputs": [
    {
     "data": {
      "text/plain": [
       "359"
      ]
     },
     "execution_count": 16,
     "metadata": {},
     "output_type": "execute_result"
    }
   ],
   "source": [
    "len(df.dependencies)"
   ]
  },
  {
   "cell_type": "code",
   "execution_count": 17,
   "metadata": {},
   "outputs": [],
   "source": [
    "df[['dependencies']] = df[['dependencies']].copy().map(repackage_dependencies)"
   ]
  },
  {
   "cell_type": "code",
   "execution_count": 18,
   "metadata": {},
   "outputs": [
    {
     "data": {
      "text/plain": [
       "(359, 22)"
      ]
     },
     "execution_count": 18,
     "metadata": {},
     "output_type": "execute_result"
    }
   ],
   "source": [
    "df.shape"
   ]
  },
  {
   "cell_type": "code",
   "execution_count": 19,
   "metadata": {},
   "outputs": [],
   "source": [
    "df = df.explode('input_modality').explode('output_modality').explode('dependencies')"
   ]
  },
  {
   "cell_type": "code",
   "execution_count": 20,
   "metadata": {},
   "outputs": [
    {
     "data": {
      "text/plain": [
       "(898, 22)"
      ]
     },
     "execution_count": 20,
     "metadata": {},
     "output_type": "execute_result"
    }
   ],
   "source": [
    "df.shape"
   ]
  },
  {
   "cell_type": "code",
   "execution_count": 21,
   "metadata": {},
   "outputs": [
    {
     "data": {
      "text/html": [
       "<div>\n",
       "<style scoped>\n",
       "    .dataframe tbody tr th:only-of-type {\n",
       "        vertical-align: middle;\n",
       "    }\n",
       "\n",
       "    .dataframe tbody tr th {\n",
       "        vertical-align: top;\n",
       "    }\n",
       "\n",
       "    .dataframe thead th {\n",
       "        text-align: right;\n",
       "    }\n",
       "</style>\n",
       "<table border=\"1\" class=\"dataframe\">\n",
       "  <thead>\n",
       "    <tr style=\"text-align: right;\">\n",
       "      <th></th>\n",
       "      <th>name</th>\n",
       "      <th>organization</th>\n",
       "      <th>description</th>\n",
       "      <th>created_date</th>\n",
       "      <th>url</th>\n",
       "      <th>size</th>\n",
       "      <th>analysis</th>\n",
       "      <th>dependencies</th>\n",
       "      <th>quality_control</th>\n",
       "      <th>access</th>\n",
       "      <th>...</th>\n",
       "      <th>prohibited_uses</th>\n",
       "      <th>monitoring</th>\n",
       "      <th>feedback</th>\n",
       "      <th>model_card</th>\n",
       "      <th>training_emissions</th>\n",
       "      <th>training_time</th>\n",
       "      <th>training_hardware</th>\n",
       "      <th>id</th>\n",
       "      <th>input_modality</th>\n",
       "      <th>output_modality</th>\n",
       "    </tr>\n",
       "  </thead>\n",
       "  <tbody>\n",
       "    <tr>\n",
       "      <th>3</th>\n",
       "      <td>Lag-LLaMA</td>\n",
       "      <td>Morgan Stanley, ServiceNow Research, Universit...</td>\n",
       "      <td>Lag-LLaMA is a general-purpose foundation mode...</td>\n",
       "      <td>2024-02-08</td>\n",
       "      <td>https://time-series-foundation-models.github.i...</td>\n",
       "      <td>unknown</td>\n",
       "      <td>Evaluated on previously unseen time series dat...</td>\n",
       "      <td></td>\n",
       "      <td>NaN</td>\n",
       "      <td>open</td>\n",
       "      <td>...</td>\n",
       "      <td>NaN</td>\n",
       "      <td>unknown</td>\n",
       "      <td>https://huggingface.co/time-series-foundation-...</td>\n",
       "      <td>https://huggingface.co/time-series-foundation-...</td>\n",
       "      <td>unknown</td>\n",
       "      <td>unknown</td>\n",
       "      <td>A single NVIDIA Tesla-P100 GPU</td>\n",
       "      <td>1</td>\n",
       "      <td>text</td>\n",
       "      <td>text</td>\n",
       "    </tr>\n",
       "    <tr>\n",
       "      <th>4</th>\n",
       "      <td>Prithvi</td>\n",
       "      <td>IBM</td>\n",
       "      <td>Prithvi is a first-of-its-kind temporal Vision...</td>\n",
       "      <td>2023-08-03</td>\n",
       "      <td>https://github.com/NASA-IMPACT/hls-foundation-os</td>\n",
       "      <td>100M parameters (dense)</td>\n",
       "      <td>NaN</td>\n",
       "      <td>NASA HLS data</td>\n",
       "      <td>NaN</td>\n",
       "      <td>open</td>\n",
       "      <td>...</td>\n",
       "      <td>NaN</td>\n",
       "      <td>NaN</td>\n",
       "      <td>https://huggingface.co/ibm-nasa-geospatial/Pri...</td>\n",
       "      <td>https://huggingface.co/ibm-nasa-geospatial/Pri...</td>\n",
       "      <td>NaN</td>\n",
       "      <td>NaN</td>\n",
       "      <td>NaN</td>\n",
       "      <td>2</td>\n",
       "      <td>text</td>\n",
       "      <td>text</td>\n",
       "    </tr>\n",
       "  </tbody>\n",
       "</table>\n",
       "<p>2 rows × 22 columns</p>\n",
       "</div>"
      ],
      "text/plain": [
       "        name                                       organization  \\\n",
       "3  Lag-LLaMA  Morgan Stanley, ServiceNow Research, Universit...   \n",
       "4    Prithvi                                                IBM   \n",
       "\n",
       "                                         description created_date  \\\n",
       "3  Lag-LLaMA is a general-purpose foundation mode...   2024-02-08   \n",
       "4  Prithvi is a first-of-its-kind temporal Vision...   2023-08-03   \n",
       "\n",
       "                                                 url                     size  \\\n",
       "3  https://time-series-foundation-models.github.i...                  unknown   \n",
       "4   https://github.com/NASA-IMPACT/hls-foundation-os  100M parameters (dense)   \n",
       "\n",
       "                                            analysis   dependencies  \\\n",
       "3  Evaluated on previously unseen time series dat...                  \n",
       "4                                                NaN  NASA HLS data   \n",
       "\n",
       "  quality_control access  ... prohibited_uses monitoring  \\\n",
       "3             NaN   open  ...             NaN    unknown   \n",
       "4             NaN   open  ...             NaN        NaN   \n",
       "\n",
       "                                            feedback  \\\n",
       "3  https://huggingface.co/time-series-foundation-...   \n",
       "4  https://huggingface.co/ibm-nasa-geospatial/Pri...   \n",
       "\n",
       "                                          model_card training_emissions  \\\n",
       "3  https://huggingface.co/time-series-foundation-...            unknown   \n",
       "4  https://huggingface.co/ibm-nasa-geospatial/Pri...                NaN   \n",
       "\n",
       "  training_time               training_hardware id input_modality  \\\n",
       "3       unknown  A single NVIDIA Tesla-P100 GPU  1           text   \n",
       "4           NaN                             NaN  2           text   \n",
       "\n",
       "   output_modality  \n",
       "3             text  \n",
       "4             text  \n",
       "\n",
       "[2 rows x 22 columns]"
      ]
     },
     "execution_count": 21,
     "metadata": {},
     "output_type": "execute_result"
    }
   ],
   "source": [
    "df.head(2)"
   ]
  },
  {
   "cell_type": "code",
   "execution_count": 22,
   "metadata": {},
   "outputs": [
    {
     "data": {
      "text/html": [
       "<div>\n",
       "<style scoped>\n",
       "    .dataframe tbody tr th:only-of-type {\n",
       "        vertical-align: middle;\n",
       "    }\n",
       "\n",
       "    .dataframe tbody tr th {\n",
       "        vertical-align: top;\n",
       "    }\n",
       "\n",
       "    .dataframe thead th {\n",
       "        text-align: right;\n",
       "    }\n",
       "</style>\n",
       "<table border=\"1\" class=\"dataframe\">\n",
       "  <thead>\n",
       "    <tr style=\"text-align: right;\">\n",
       "      <th></th>\n",
       "      <th>name</th>\n",
       "      <th>organization</th>\n",
       "      <th>description</th>\n",
       "      <th>created_date</th>\n",
       "      <th>url</th>\n",
       "      <th>size</th>\n",
       "      <th>analysis</th>\n",
       "      <th>dependencies</th>\n",
       "      <th>quality_control</th>\n",
       "      <th>access</th>\n",
       "      <th>license</th>\n",
       "    </tr>\n",
       "  </thead>\n",
       "  <tbody>\n",
       "    <tr>\n",
       "      <th>6</th>\n",
       "      <td>Granite</td>\n",
       "      <td>IBM</td>\n",
       "      <td>Granite is a set of multi-size foundation mode...</td>\n",
       "      <td>2023-09-28</td>\n",
       "      <td>https://www.ibm.com/blog/building-ai-for-busin...</td>\n",
       "      <td>13B parameters (dense)</td>\n",
       "      <td>unknown</td>\n",
       "      <td></td>\n",
       "      <td>Training data passed through IBM HAP detector,...</td>\n",
       "      <td>limited</td>\n",
       "      <td>NaN</td>\n",
       "    </tr>\n",
       "    <tr>\n",
       "      <th>6</th>\n",
       "      <td>Granite</td>\n",
       "      <td>IBM</td>\n",
       "      <td>Granite is a set of multi-size foundation mode...</td>\n",
       "      <td>2023-09-28</td>\n",
       "      <td>https://www.ibm.com/blog/building-ai-for-busin...</td>\n",
       "      <td>13B parameters (dense)</td>\n",
       "      <td>unknown</td>\n",
       "      <td></td>\n",
       "      <td>Training data passed through IBM HAP detector,...</td>\n",
       "      <td>limited</td>\n",
       "      <td>NaN</td>\n",
       "    </tr>\n",
       "    <tr>\n",
       "      <th>7</th>\n",
       "      <td>Animagine XL 3.1</td>\n",
       "      <td>Cagliostro Research Lab</td>\n",
       "      <td>An open-source, anime-themed text-to-image mod...</td>\n",
       "      <td>2024-03-18</td>\n",
       "      <td>https://cagliostrolab.net/posts/animagine-xl-v...</td>\n",
       "      <td>unknown</td>\n",
       "      <td>unknown</td>\n",
       "      <td>Animagine XL 3.0</td>\n",
       "      <td>The model undergoes pretraining, first stage f...</td>\n",
       "      <td>open</td>\n",
       "      <td>Fair AI Public License 1.0-SD</td>\n",
       "    </tr>\n",
       "    <tr>\n",
       "      <th>11</th>\n",
       "      <td>Bark</td>\n",
       "      <td>Suno</td>\n",
       "      <td>Bark is a text-to-audio model that can generat...</td>\n",
       "      <td>2023-04-20</td>\n",
       "      <td>https://github.com/suno-ai/bark</td>\n",
       "      <td>NaN</td>\n",
       "      <td>NaN</td>\n",
       "      <td>AudioLM</td>\n",
       "      <td>NaN</td>\n",
       "      <td>open</td>\n",
       "      <td>MIT</td>\n",
       "    </tr>\n",
       "    <tr>\n",
       "      <th>13</th>\n",
       "      <td>GPT-JT</td>\n",
       "      <td>Together</td>\n",
       "      <td>NaN</td>\n",
       "      <td>2022-11-29</td>\n",
       "      <td>https://www.together.xyz/blog/releasing-v1-of-...</td>\n",
       "      <td>6B parameters (dense)</td>\n",
       "      <td>NaN</td>\n",
       "      <td>GPT-J</td>\n",
       "      <td>NaN</td>\n",
       "      <td>open</td>\n",
       "      <td>Apache 2.0</td>\n",
       "    </tr>\n",
       "  </tbody>\n",
       "</table>\n",
       "</div>"
      ],
      "text/plain": [
       "                name             organization  \\\n",
       "6            Granite                      IBM   \n",
       "6            Granite                      IBM   \n",
       "7   Animagine XL 3.1  Cagliostro Research Lab   \n",
       "11              Bark                     Suno   \n",
       "13            GPT-JT                 Together   \n",
       "\n",
       "                                          description created_date  \\\n",
       "6   Granite is a set of multi-size foundation mode...   2023-09-28   \n",
       "6   Granite is a set of multi-size foundation mode...   2023-09-28   \n",
       "7   An open-source, anime-themed text-to-image mod...   2024-03-18   \n",
       "11  Bark is a text-to-audio model that can generat...   2023-04-20   \n",
       "13                                                NaN   2022-11-29   \n",
       "\n",
       "                                                  url                    size  \\\n",
       "6   https://www.ibm.com/blog/building-ai-for-busin...  13B parameters (dense)   \n",
       "6   https://www.ibm.com/blog/building-ai-for-busin...  13B parameters (dense)   \n",
       "7   https://cagliostrolab.net/posts/animagine-xl-v...                 unknown   \n",
       "11                    https://github.com/suno-ai/bark                     NaN   \n",
       "13  https://www.together.xyz/blog/releasing-v1-of-...   6B parameters (dense)   \n",
       "\n",
       "   analysis      dependencies  \\\n",
       "6   unknown                     \n",
       "6   unknown                     \n",
       "7   unknown  Animagine XL 3.0   \n",
       "11      NaN           AudioLM   \n",
       "13      NaN             GPT-J   \n",
       "\n",
       "                                      quality_control   access  \\\n",
       "6   Training data passed through IBM HAP detector,...  limited   \n",
       "6   Training data passed through IBM HAP detector,...  limited   \n",
       "7   The model undergoes pretraining, first stage f...     open   \n",
       "11                                                NaN     open   \n",
       "13                                                NaN     open   \n",
       "\n",
       "                          license  \n",
       "6                             NaN  \n",
       "6                             NaN  \n",
       "7   Fair AI Public License 1.0-SD  \n",
       "11                            MIT  \n",
       "13                     Apache 2.0  "
      ]
     },
     "execution_count": 22,
     "metadata": {},
     "output_type": "execute_result"
    }
   ],
   "source": [
    "df.iloc[5:10, :11]"
   ]
  },
  {
   "cell_type": "code",
   "execution_count": 23,
   "metadata": {},
   "outputs": [
    {
     "data": {
      "text/html": [
       "<div>\n",
       "<style scoped>\n",
       "    .dataframe tbody tr th:only-of-type {\n",
       "        vertical-align: middle;\n",
       "    }\n",
       "\n",
       "    .dataframe tbody tr th {\n",
       "        vertical-align: top;\n",
       "    }\n",
       "\n",
       "    .dataframe thead th {\n",
       "        text-align: right;\n",
       "    }\n",
       "</style>\n",
       "<table border=\"1\" class=\"dataframe\">\n",
       "  <thead>\n",
       "    <tr style=\"text-align: right;\">\n",
       "      <th></th>\n",
       "      <th>id</th>\n",
       "      <th>dependencies</th>\n",
       "    </tr>\n",
       "  </thead>\n",
       "  <tbody>\n",
       "    <tr>\n",
       "      <th>3</th>\n",
       "      <td>1</td>\n",
       "      <td></td>\n",
       "    </tr>\n",
       "    <tr>\n",
       "      <th>4</th>\n",
       "      <td>2</td>\n",
       "      <td>NASA HLS data</td>\n",
       "    </tr>\n",
       "    <tr>\n",
       "      <th>4</th>\n",
       "      <td>2</td>\n",
       "      <td>NASA HLS data</td>\n",
       "    </tr>\n",
       "    <tr>\n",
       "      <th>4</th>\n",
       "      <td>2</td>\n",
       "      <td>NASA HLS data</td>\n",
       "    </tr>\n",
       "    <tr>\n",
       "      <th>4</th>\n",
       "      <td>2</td>\n",
       "      <td>NASA HLS data</td>\n",
       "    </tr>\n",
       "    <tr>\n",
       "      <th>...</th>\n",
       "      <td>...</td>\n",
       "      <td>...</td>\n",
       "    </tr>\n",
       "    <tr>\n",
       "      <th>563</th>\n",
       "      <td>358</td>\n",
       "      <td>Wikipedia</td>\n",
       "    </tr>\n",
       "    <tr>\n",
       "      <th>564</th>\n",
       "      <td>359</td>\n",
       "      <td>SlimPajama</td>\n",
       "    </tr>\n",
       "    <tr>\n",
       "      <th>564</th>\n",
       "      <td>359</td>\n",
       "      <td>StarCoder</td>\n",
       "    </tr>\n",
       "    <tr>\n",
       "      <th>564</th>\n",
       "      <td>359</td>\n",
       "      <td>SlimPajama</td>\n",
       "    </tr>\n",
       "    <tr>\n",
       "      <th>564</th>\n",
       "      <td>359</td>\n",
       "      <td>StarCoder</td>\n",
       "    </tr>\n",
       "  </tbody>\n",
       "</table>\n",
       "<p>898 rows × 2 columns</p>\n",
       "</div>"
      ],
      "text/plain": [
       "      id   dependencies\n",
       "3      1               \n",
       "4      2  NASA HLS data\n",
       "4      2  NASA HLS data\n",
       "4      2  NASA HLS data\n",
       "4      2  NASA HLS data\n",
       "..   ...            ...\n",
       "563  358      Wikipedia\n",
       "564  359     SlimPajama\n",
       "564  359      StarCoder\n",
       "564  359     SlimPajama\n",
       "564  359      StarCoder\n",
       "\n",
       "[898 rows x 2 columns]"
      ]
     },
     "execution_count": 23,
     "metadata": {},
     "output_type": "execute_result"
    }
   ],
   "source": [
    "df[['id', 'dependencies']]"
   ]
  },
  {
   "cell_type": "code",
   "execution_count": 24,
   "metadata": {},
   "outputs": [
    {
     "name": "stdout",
     "output_type": "stream",
     "text": [
      "<class 'pandas.core.frame.DataFrame'>\n",
      "Index: 898 entries, 3 to 564\n",
      "Data columns (total 22 columns):\n",
      " #   Column              Non-Null Count  Dtype         \n",
      "---  ------              --------------  -----         \n",
      " 0   name                898 non-null    object        \n",
      " 1   organization        898 non-null    object        \n",
      " 2   description         732 non-null    object        \n",
      " 3   created_date        896 non-null    datetime64[ns]\n",
      " 4   url                 896 non-null    object        \n",
      " 5   size                892 non-null    object        \n",
      " 6   analysis            584 non-null    object        \n",
      " 7   dependencies        898 non-null    object        \n",
      " 8   quality_control     159 non-null    object        \n",
      " 9   access              898 non-null    object        \n",
      " 10  license             866 non-null    object        \n",
      " 11  intended_uses       330 non-null    object        \n",
      " 12  prohibited_uses     208 non-null    object        \n",
      " 13  monitoring          232 non-null    object        \n",
      " 14  feedback            376 non-null    object        \n",
      " 15  model_card          394 non-null    object        \n",
      " 16  training_emissions  522 non-null    object        \n",
      " 17  training_time       531 non-null    object        \n",
      " 18  training_hardware   559 non-null    object        \n",
      " 19  id                  898 non-null    int64         \n",
      " 20  input_modality      898 non-null    object        \n",
      " 21  output_modality     898 non-null    object        \n",
      "dtypes: datetime64[ns](1), int64(1), object(20)\n",
      "memory usage: 161.4+ KB\n"
     ]
    }
   ],
   "source": [
    "df.info()"
   ]
  }
 ],
 "metadata": {
  "kernelspec": {
   "display_name": "base",
   "language": "python",
   "name": "python3"
  },
  "language_info": {
   "codemirror_mode": {
    "name": "ipython",
    "version": 3
   },
   "file_extension": ".py",
   "mimetype": "text/x-python",
   "name": "python",
   "nbconvert_exporter": "python",
   "pygments_lexer": "ipython3",
   "version": "3.11.7"
  }
 },
 "nbformat": 4,
 "nbformat_minor": 2
}
