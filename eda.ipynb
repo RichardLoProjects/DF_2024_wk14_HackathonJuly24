{
 "cells": [
  {
   "cell_type": "markdown",
   "metadata": {},
   "source": [
    "# Exploratory Data Analysis"
   ]
  },
  {
   "cell_type": "markdown",
   "metadata": {},
   "source": [
    "### Introduction"
   ]
  },
  {
   "cell_type": "markdown",
   "metadata": {},
   "source": [
    "We have data from a CSV file found [here](https://crfm.stanford.edu/ecosystem-graphs/index.html?mode=table). Let's try to understand it. The motivating goal of the Data Engineer is to clean and structure the data so that it is accessible to our Data Analyst and Software Engineer teams."
   ]
  },
  {
   "cell_type": "markdown",
   "metadata": {},
   "source": [
    "### Diving In"
   ]
  },
  {
   "cell_type": "markdown",
   "metadata": {},
   "source": [
    "We start by importing the tool to look at tabular data and extracting it from the csv source."
   ]
  },
  {
   "cell_type": "code",
   "execution_count": 1,
   "metadata": {},
   "outputs": [],
   "source": [
    "import pandas as pd"
   ]
  },
  {
   "cell_type": "code",
   "execution_count": 2,
   "metadata": {},
   "outputs": [],
   "source": [
    "source_data = pd.read_csv('assets.csv')"
   ]
  },
  {
   "cell_type": "markdown",
   "metadata": {},
   "source": [
    "What is the size of the data?"
   ]
  },
  {
   "cell_type": "code",
   "execution_count": 5,
   "metadata": {},
   "outputs": [
    {
     "name": "stdout",
     "output_type": "stream",
     "text": [
      "The data has 568 rows and 31 columns.\n"
     ]
    }
   ],
   "source": [
    "row_count, column_count = source_data.shape\n",
    "print(f'The data has {row_count} rows and {column_count} columns.')"
   ]
  },
  {
   "cell_type": "markdown",
   "metadata": {},
   "source": [
    "That is quite a lot of columns. Let's list them, along with the number of non-null values and their data type."
   ]
  },
  {
   "cell_type": "code",
   "execution_count": 6,
   "metadata": {},
   "outputs": [
    {
     "name": "stdout",
     "output_type": "stream",
     "text": [
      "<class 'pandas.core.frame.DataFrame'>\n",
      "RangeIndex: 568 entries, 0 to 567\n",
      "Data columns (total 31 columns):\n",
      " #   Column                Non-Null Count  Dtype \n",
      "---  ------                --------------  ----- \n",
      " 0   type                  568 non-null    object\n",
      " 1   name                  568 non-null    object\n",
      " 2   organization          568 non-null    object\n",
      " 3   description           471 non-null    object\n",
      " 4   created_date          548 non-null    object\n",
      " 5   url                   562 non-null    object\n",
      " 6   datasheet             39 non-null     object\n",
      " 7   modality              467 non-null    object\n",
      " 8   size                  467 non-null    object\n",
      " 9   sample                112 non-null    object\n",
      " 10  analysis              283 non-null    object\n",
      " 11  dependencies          568 non-null    object\n",
      " 12  included              38 non-null     object\n",
      " 13  excluded              38 non-null     object\n",
      " 14  quality_control       149 non-null    object\n",
      " 15  access                568 non-null    object\n",
      " 16  license               528 non-null    object\n",
      " 17  intended_uses         206 non-null    object\n",
      " 18  prohibited_uses       141 non-null    object\n",
      " 19  monitoring            168 non-null    object\n",
      " 20  feedback              230 non-null    object\n",
      " 21  model_card            170 non-null    object\n",
      " 22  training_emissions    244 non-null    object\n",
      " 23  training_time         250 non-null    object\n",
      " 24  training_hardware     262 non-null    object\n",
      " 25  adaptation            23 non-null     object\n",
      " 26  output_space          41 non-null     object\n",
      " 27  terms_of_service      60 non-null     object\n",
      " 28  monthly_active_users  30 non-null     object\n",
      " 29  user_distribution     29 non-null     object\n",
      " 30  failures              28 non-null     object\n",
      "dtypes: object(31)\n",
      "memory usage: 137.7+ KB\n"
     ]
    }
   ],
   "source": [
    "source_data.info()"
   ]
  },
  {
   "cell_type": "markdown",
   "metadata": {},
   "source": [
    "We can see that some data types are incorrect:\n",
    "\n",
    "- `created_date` should be a datetime"
   ]
  },
  {
   "cell_type": "code",
   "execution_count": 7,
   "metadata": {},
   "outputs": [],
   "source": [
    "web_columns = [\n",
    "    'type'\n",
    "    , 'name'\n",
    "    , 'organization'\n",
    "    , 'created_date'\n",
    "    , 'size'\n",
    "    , 'modality'\n",
    "    , 'access'\n",
    "    , 'license'\n",
    "    , 'dependencies'\n",
    "]"
   ]
  },
  {
   "cell_type": "code",
   "execution_count": 12,
   "metadata": {},
   "outputs": [
    {
     "name": "stdout",
     "output_type": "stream",
     "text": [
      "model\n",
      "StableLM\n",
      "Stability AI\n",
      "Large language models trained on up to 1.5 trillion tokens.\n",
      "2023-04-20\n",
      "https://github.com/Stability-AI/StableLM\n",
      "nan\n",
      "text; text\n",
      "7B parameters (dense)\n",
      "nan\n",
      "nan\n",
      "['StableLM-Alpha dataset', 'Alpaca dataset', 'gpt4all dataset', 'ShareGPT52K dataset', 'Dolly dataset', 'HH dataset']\n",
      "nan\n",
      "nan\n",
      "nan\n",
      "open\n",
      "Apache 2.0\n",
      "nan\n",
      "nan\n",
      "nan\n",
      "nan\n",
      "nan\n",
      "nan\n",
      "nan\n",
      "nan\n",
      "nan\n",
      "nan\n",
      "nan\n",
      "nan\n",
      "nan\n",
      "nan\n"
     ]
    }
   ],
   "source": [
    "for c in source_data.columns:\n",
    "    print(source_data[c].iloc[50])"
   ]
  },
  {
   "cell_type": "code",
   "execution_count": 10,
   "metadata": {},
   "outputs": [
    {
     "data": {
      "text/html": [
       "<div>\n",
       "<style scoped>\n",
       "    .dataframe tbody tr th:only-of-type {\n",
       "        vertical-align: middle;\n",
       "    }\n",
       "\n",
       "    .dataframe tbody tr th {\n",
       "        vertical-align: top;\n",
       "    }\n",
       "\n",
       "    .dataframe thead th {\n",
       "        text-align: right;\n",
       "    }\n",
       "</style>\n",
       "<table border=\"1\" class=\"dataframe\">\n",
       "  <thead>\n",
       "    <tr style=\"text-align: right;\">\n",
       "      <th></th>\n",
       "      <th>type</th>\n",
       "      <th>name</th>\n",
       "      <th>organization</th>\n",
       "      <th>description</th>\n",
       "      <th>created_date</th>\n",
       "      <th>url</th>\n",
       "      <th>datasheet</th>\n",
       "      <th>modality</th>\n",
       "      <th>size</th>\n",
       "      <th>sample</th>\n",
       "      <th>...</th>\n",
       "      <th>model_card</th>\n",
       "      <th>training_emissions</th>\n",
       "      <th>training_time</th>\n",
       "      <th>training_hardware</th>\n",
       "      <th>adaptation</th>\n",
       "      <th>output_space</th>\n",
       "      <th>terms_of_service</th>\n",
       "      <th>monthly_active_users</th>\n",
       "      <th>user_distribution</th>\n",
       "      <th>failures</th>\n",
       "    </tr>\n",
       "  </thead>\n",
       "  <tbody>\n",
       "    <tr>\n",
       "      <th>0</th>\n",
       "      <td>dataset</td>\n",
       "      <td>ToyMix</td>\n",
       "      <td>Mila-Quebec AI Institute</td>\n",
       "      <td>ToyMix is the smallest dataset of three extens...</td>\n",
       "      <td>2023-10-09</td>\n",
       "      <td>https://arxiv.org/pdf/2310.04292.pdf</td>\n",
       "      <td>NaN</td>\n",
       "      <td>molecules, tasks</td>\n",
       "      <td>13B labels of quantum and biological nature.</td>\n",
       "      <td>[]</td>\n",
       "      <td>...</td>\n",
       "      <td>NaN</td>\n",
       "      <td>NaN</td>\n",
       "      <td>NaN</td>\n",
       "      <td>NaN</td>\n",
       "      <td>NaN</td>\n",
       "      <td>NaN</td>\n",
       "      <td>NaN</td>\n",
       "      <td>NaN</td>\n",
       "      <td>NaN</td>\n",
       "      <td>NaN</td>\n",
       "    </tr>\n",
       "  </tbody>\n",
       "</table>\n",
       "<p>1 rows × 31 columns</p>\n",
       "</div>"
      ],
      "text/plain": [
       "      type    name              organization  \\\n",
       "0  dataset  ToyMix  Mila-Quebec AI Institute   \n",
       "\n",
       "                                         description created_date  \\\n",
       "0  ToyMix is the smallest dataset of three extens...   2023-10-09   \n",
       "\n",
       "                                    url datasheet          modality  \\\n",
       "0  https://arxiv.org/pdf/2310.04292.pdf       NaN  molecules, tasks   \n",
       "\n",
       "                                           size sample  ... model_card  \\\n",
       "0  13B labels of quantum and biological nature.     []  ...        NaN   \n",
       "\n",
       "  training_emissions training_time training_hardware adaptation output_space  \\\n",
       "0                NaN           NaN               NaN        NaN          NaN   \n",
       "\n",
       "  terms_of_service monthly_active_users user_distribution failures  \n",
       "0              NaN                  NaN               NaN      NaN  \n",
       "\n",
       "[1 rows x 31 columns]"
      ]
     },
     "execution_count": 10,
     "metadata": {},
     "output_type": "execute_result"
    }
   ],
   "source": [
    "source_data.head(1)"
   ]
  },
  {
   "cell_type": "code",
   "execution_count": 13,
   "metadata": {},
   "outputs": [
    {
     "data": {
      "text/html": [
       "<div>\n",
       "<style scoped>\n",
       "    .dataframe tbody tr th:only-of-type {\n",
       "        vertical-align: middle;\n",
       "    }\n",
       "\n",
       "    .dataframe tbody tr th {\n",
       "        vertical-align: top;\n",
       "    }\n",
       "\n",
       "    .dataframe thead th {\n",
       "        text-align: right;\n",
       "    }\n",
       "</style>\n",
       "<table border=\"1\" class=\"dataframe\">\n",
       "  <thead>\n",
       "    <tr style=\"text-align: right;\">\n",
       "      <th></th>\n",
       "      <th>type</th>\n",
       "      <th>name</th>\n",
       "      <th>organization</th>\n",
       "      <th>description</th>\n",
       "      <th>created_date</th>\n",
       "      <th>url</th>\n",
       "      <th>datasheet</th>\n",
       "      <th>modality</th>\n",
       "      <th>size</th>\n",
       "      <th>sample</th>\n",
       "      <th>...</th>\n",
       "      <th>model_card</th>\n",
       "      <th>training_emissions</th>\n",
       "      <th>training_time</th>\n",
       "      <th>training_hardware</th>\n",
       "      <th>adaptation</th>\n",
       "      <th>output_space</th>\n",
       "      <th>terms_of_service</th>\n",
       "      <th>monthly_active_users</th>\n",
       "      <th>user_distribution</th>\n",
       "      <th>failures</th>\n",
       "    </tr>\n",
       "  </thead>\n",
       "  <tbody>\n",
       "  </tbody>\n",
       "</table>\n",
       "<p>0 rows × 31 columns</p>\n",
       "</div>"
      ],
      "text/plain": [
       "Empty DataFrame\n",
       "Columns: [type, name, organization, description, created_date, url, datasheet, modality, size, sample, analysis, dependencies, included, excluded, quality_control, access, license, intended_uses, prohibited_uses, monitoring, feedback, model_card, training_emissions, training_time, training_hardware, adaptation, output_space, terms_of_service, monthly_active_users, user_distribution, failures]\n",
       "Index: []\n",
       "\n",
       "[0 rows x 31 columns]"
      ]
     },
     "execution_count": 13,
     "metadata": {},
     "output_type": "execute_result"
    }
   ],
   "source": [
    "source_data[source_data.name == 'Sonic']"
   ]
  }
 ],
 "metadata": {
  "kernelspec": {
   "display_name": "base",
   "language": "python",
   "name": "python3"
  },
  "language_info": {
   "codemirror_mode": {
    "name": "ipython",
    "version": 3
   },
   "file_extension": ".py",
   "mimetype": "text/x-python",
   "name": "python",
   "nbconvert_exporter": "python",
   "pygments_lexer": "ipython3",
   "version": "3.11.7"
  }
 },
 "nbformat": 4,
 "nbformat_minor": 2
}
