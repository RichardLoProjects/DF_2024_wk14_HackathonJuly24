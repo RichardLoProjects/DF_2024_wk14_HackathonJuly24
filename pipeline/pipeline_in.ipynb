{
 "cells": [
  {
   "cell_type": "markdown",
   "metadata": {},
   "source": [
    "This notebook runs Python 3.11.7 on anaconda3. It is a pipeline to take standford source data and deliver csv data for the analytics team."
   ]
  },
  {
   "cell_type": "code",
   "execution_count": 1,
   "metadata": {},
   "outputs": [
    {
     "name": "stdout",
     "output_type": "stream",
     "text": [
      "Script is good!\n"
     ]
    }
   ],
   "source": [
    "'''Data pipeline to pull data from local csv and load clean data into another csv.'''\n",
    "import pandas as pd # type: ignore\n",
    "\n",
    "\n",
    "class DataPipeline:\n",
    "    def __init__(self, source:str, target:str, primary_key:str) -> None:\n",
    "        self.df = pd.DataFrame()\n",
    "        self.source = source\n",
    "        self.target = target\n",
    "        self.pk = primary_key\n",
    "    def extract(self) -> None:\n",
    "        self.df = pd.read_csv(self.source)\n",
    "    def transform(self) -> None:\n",
    "        model_data:pd.DataFrame = self.df\n",
    "        model_data = model_data[(model_data['type']!='dataset')]\n",
    "        for column_name in model_data.copy().columns:\n",
    "            if len(model_data[column_name].unique()) <= 1:\n",
    "                model_data = model_data.drop(columns=column_name)\n",
    "        model_data['model_id'] = range(1, 1+len(model_data))\n",
    "        model_data['created_date'] = pd.to_datetime(model_data['created_date'], errors='coerce')\n",
    "        model_data[['input_modality', 'output_modality']] = \\\n",
    "            model_data['modality'].apply(repackage_modality).apply(pd.Series)\n",
    "        model_data.drop(columns='modality', inplace=True)\n",
    "        model_data[['dependencies']] = model_data[['dependencies']].copy().map(\n",
    "            lambda raw: [s.strip(' ').strip('\\'') for s in str(raw)[1:-1].split(',')]\n",
    "        )\n",
    "        model_data = model_data.explode('input_modality')\n",
    "        model_data = model_data.explode('output_modality')\n",
    "        model_data = model_data.explode('dependencies')\n",
    "        model_data['table_pk'] = range(1, 1+len(model_data))\n",
    "        self.df = model_data\n",
    "    def load(self) -> None:\n",
    "        self.df.to_csv(self.target)\n",
    "    def call_sos(self, error_message:str) -> None:\n",
    "        print(error_message)\n",
    "\n",
    "\n",
    "def repackage_modality(raw:str) -> tuple[list[str]]:\n",
    "    raw = str(raw)\n",
    "    semicolon_count = raw.count(';')\n",
    "    assert semicolon_count <= 1, 'LLM modality invalid.'\n",
    "    if semicolon_count == 0:\n",
    "        raw = raw + ';' + raw\n",
    "    modal_input_str, modal_output_str = raw.split(';')\n",
    "    modal_inputs = [s.strip() for s in modal_input_str.split(',')]\n",
    "    modal_outputs = [s.strip() for s in modal_output_str.split(',')]\n",
    "    return modal_inputs, modal_outputs\n",
    "\n",
    "\n",
    "def main() -> None:\n",
    "    try:\n",
    "        source_path = '../data/assets.csv'\n",
    "        target_path = '../data/processed.csv'\n",
    "        primary_key = 'table_pk'\n",
    "        pipeline = DataPipeline(\n",
    "            source_path\n",
    "            , target_path\n",
    "            , primary_key\n",
    "        )\n",
    "        pipeline.extract()\n",
    "        pipeline.transform()\n",
    "        pipeline.load()\n",
    "        print('Script is good!')\n",
    "    except Exception as e:\n",
    "        pipeline.call_sos(e)\n",
    "    finally:\n",
    "        '''Close connections.'''\n",
    "        pass\n",
    "\n",
    "if __name__ == '__main__':\n",
    "    main()\n"
   ]
  }
 ],
 "metadata": {
  "kernelspec": {
   "display_name": "base",
   "language": "python",
   "name": "python3"
  },
  "language_info": {
   "codemirror_mode": {
    "name": "ipython",
    "version": 3
   },
   "file_extension": ".py",
   "mimetype": "text/x-python",
   "name": "python",
   "nbconvert_exporter": "python",
   "pygments_lexer": "ipython3",
   "version": "3.11.7"
  }
 },
 "nbformat": 4,
 "nbformat_minor": 2
}
