{
 "cells": [
  {
   "cell_type": "markdown",
   "metadata": {},
   "source": [
    "This notebook runs Python 3.11.7 on anaconda3. It is a pipeline to take analytics data and deliver json data for the software team."
   ]
  },
  {
   "cell_type": "code",
   "execution_count": 3,
   "metadata": {},
   "outputs": [
    {
     "name": "stdout",
     "output_type": "stream",
     "text": [
      "Script is good!\n"
     ]
    }
   ],
   "source": [
    "'''Data pipeline to pull data from local csv and load clean data into another csv.'''\n",
    "import pandas as pd # type: ignore\n",
    "import json\n",
    "\n",
    "\n",
    "class DataPipeline:\n",
    "    def __init__(self, source:str, target:str) -> None:\n",
    "        self.df = pd.DataFrame()\n",
    "        self.source = source\n",
    "        self.target = target\n",
    "    def extract(self) -> None:\n",
    "        self.df = pd.read_csv(self.source)\n",
    "        unnamed_columns = [c for c in self.df.columns if 'Unnamed' in c]\n",
    "        self.df.drop(columns=unnamed_columns, inplace=True)\n",
    "    def transform(self) -> None:\n",
    "        for col in self.df.columns:\n",
    "            if 'date' in  col:\n",
    "                self.df[col] = self.df[col].astype(str)\n",
    "        self.df = self.df.to_dict(orient='records')\n",
    "    def load(self) -> None:\n",
    "        with open(self.target, 'w', encoding='utf-8') as json_file:\n",
    "            json.dump(self.df, json_file, ensure_ascii=False, indent=4)\n",
    "    def call_sos(self, error_message:str) -> None:\n",
    "        print(error_message)\n",
    "\n",
    "\n",
    "def main() -> None:\n",
    "    try:\n",
    "        source_path = '../data/processed.csv'\n",
    "        target_path = '../data/processed.json'\n",
    "        pipeline = DataPipeline(\n",
    "            source_path\n",
    "            , target_path\n",
    "        )\n",
    "        pipeline.extract()\n",
    "        pipeline.transform()\n",
    "        pipeline.load()\n",
    "        print('Script is good!')\n",
    "    except Exception as e:\n",
    "        pipeline.call_sos(e)\n",
    "    finally:\n",
    "        '''Close connections.'''\n",
    "        pass\n",
    "\n",
    "if __name__ == '__main__':\n",
    "    main()\n"
   ]
  }
 ],
 "metadata": {
  "kernelspec": {
   "display_name": "base",
   "language": "python",
   "name": "python3"
  },
  "language_info": {
   "codemirror_mode": {
    "name": "ipython",
    "version": 3
   },
   "file_extension": ".py",
   "mimetype": "text/x-python",
   "name": "python",
   "nbconvert_exporter": "python",
   "pygments_lexer": "ipython3",
   "version": "3.11.7"
  }
 },
 "nbformat": 4,
 "nbformat_minor": 2
}
