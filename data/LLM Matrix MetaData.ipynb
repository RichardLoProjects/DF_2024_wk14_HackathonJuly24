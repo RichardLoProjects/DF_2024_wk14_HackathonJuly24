{
 "cells": [
  {
   "cell_type": "code",
   "execution_count": null,
   "id": "d514d37d-2515-4d1a-bff5-aac00b0a0cb3",
   "metadata": {},
   "outputs": [],
   "source": []
  },
  {
   "cell_type": "markdown",
   "id": "944fe0ee-15e9-43fe-992c-de7c96da54d0",
   "metadata": {},
   "source": [
    "| Section | Column Name | Description |\n",
    "|---------|-------------|-------------|\n",
    "|**Model Info** | \n",
    "| | **model** | |\n",
    "|    |organisation | |\n",
    "|    |specialisation | |\n",
    "|    |created_at | |\n",
    "|**Bussiness Readiness** |\n",
    "| Credibility | cred_track_record | |\n",
    "| ^| cred_endorsements | |\n",
    "| ^ | cred_recognition | |\n",
    "| ^ | _cred_score_ | |\n",
    "| Harmfulness | harm_incidents | |\n",
    "| ^ | harm_safeguards | |\n",
    "| ^ | _harm_score_ | |\n",
    "| Accuracy | accuracy_perc | |\n",
    "| ^ | accuracy_estimate | |\n",
    "| ^ | _accuracy_score_ | |\n",
    "| Benchmark | GLUE | |\n",
    "| ^ | SUPERGLUE | |\n",
    "| ^ | SQuAD | |\n",
    "| ^ | HELM_accuracy | |\n",
    "| ^ | HELM_efficiency | |\n",
    "| ^ | hugging_face_open_llm | |\n",
    "| ^ | vellum | |\n",
    "| ^ | other | |\n",
    "| ^ | estimated | |\n",
    "| ^ | _bench_score_ | |\n",
    "|  | **x_score** | |\n",
    "|**Pecieved Bussiness Value** |\n",
    "| Capabalities | _capabailities_ | |\n",
    "| Success Stories | _success stories_ | |\n",
    "| Popularity | pop_activity | |\n",
    "| ^ | pop_growth_rate | |\n",
    "| ^ | pop_variety | |\n",
    "| ^ | _pop_score_ | |\n",
    "| | **y_score** | |"
   ]
  }
 ],
 "metadata": {
  "kernelspec": {
   "display_name": "Python 3 (ipykernel)",
   "language": "python",
   "name": "python3"
  },
  "language_info": {
   "codemirror_mode": {
    "name": "ipython",
    "version": 3
   },
   "file_extension": ".py",
   "mimetype": "text/x-python",
   "name": "python",
   "nbconvert_exporter": "python",
   "pygments_lexer": "ipython3",
   "version": "3.11.7"
  }
 },
 "nbformat": 4,
 "nbformat_minor": 5
}
